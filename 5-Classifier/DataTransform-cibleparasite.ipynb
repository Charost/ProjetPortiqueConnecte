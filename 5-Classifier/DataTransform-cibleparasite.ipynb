{
 "cells": [
  {
   "cell_type": "markdown",
   "metadata": {},
   "source": [
    "### Import library\n",
    "Nous allons importer les bibliothèque numpy et pandas qui sont necessaire pour le traitement."
   ]
  },
  {
   "cell_type": "code",
   "execution_count": 1,
   "metadata": {},
   "outputs": [],
   "source": [
    "import pandas as pd\n",
    "import numpy as np"
   ]
  },
  {
   "cell_type": "markdown",
   "metadata": {},
   "source": [
    "### Import Data\n",
    "Nous allons importer les données depuis le répertoire RAwData pour enfin les traiter et transformer"
   ]
  },
  {
   "cell_type": "code",
   "execution_count": 2,
   "metadata": {},
   "outputs": [
    {
     "data": {
      "text/html": [
       "<div>\n",
       "<style scoped>\n",
       "    .dataframe tbody tr th:only-of-type {\n",
       "        vertical-align: middle;\n",
       "    }\n",
       "\n",
       "    .dataframe tbody tr th {\n",
       "        vertical-align: top;\n",
       "    }\n",
       "\n",
       "    .dataframe thead th {\n",
       "        text-align: right;\n",
       "    }\n",
       "</style>\n",
       "<table border=\"1\" class=\"dataframe\">\n",
       "  <thead>\n",
       "    <tr style=\"text-align: right;\">\n",
       "      <th></th>\n",
       "      <th>TimesTamp</th>\n",
       "      <th>ECP</th>\n",
       "      <th>Antenna</th>\n",
       "      <th>RSSI</th>\n",
       "      <th>FP</th>\n",
       "    </tr>\n",
       "  </thead>\n",
       "  <tbody>\n",
       "    <tr>\n",
       "      <td>3</td>\n",
       "      <td>1581427753033891</td>\n",
       "      <td>E28068900000000018345317</td>\n",
       "      <td>1</td>\n",
       "      <td>-60.5</td>\n",
       "      <td>0</td>\n",
       "    </tr>\n",
       "    <tr>\n",
       "      <td>4</td>\n",
       "      <td>1581427753054162</td>\n",
       "      <td>E28068900000000018345317</td>\n",
       "      <td>1</td>\n",
       "      <td>-60</td>\n",
       "      <td>0</td>\n",
       "    </tr>\n",
       "    <tr>\n",
       "      <td>5</td>\n",
       "      <td>1581427753269703</td>\n",
       "      <td>E28068900000000018345317</td>\n",
       "      <td>1</td>\n",
       "      <td>-60</td>\n",
       "      <td>0</td>\n",
       "    </tr>\n",
       "    <tr>\n",
       "      <td>6</td>\n",
       "      <td>1581427753298921</td>\n",
       "      <td>E28068900000000018345317</td>\n",
       "      <td>1</td>\n",
       "      <td>-59.5</td>\n",
       "      <td>0</td>\n",
       "    </tr>\n",
       "    <tr>\n",
       "      <td>7</td>\n",
       "      <td>1581427753513094</td>\n",
       "      <td>E28068900000000018345317</td>\n",
       "      <td>1</td>\n",
       "      <td>-59.5</td>\n",
       "      <td>0</td>\n",
       "    </tr>\n",
       "  </tbody>\n",
       "</table>\n",
       "</div>"
      ],
      "text/plain": [
       "          TimesTamp                       ECP Antenna   RSSI  FP\n",
       "3  1581427753033891  E28068900000000018345317       1  -60.5   0\n",
       "4  1581427753054162  E28068900000000018345317       1    -60   0\n",
       "5  1581427753269703  E28068900000000018345317       1    -60   0\n",
       "6  1581427753298921  E28068900000000018345317       1  -59.5   0\n",
       "7  1581427753513094  E28068900000000018345317       1  -59.5   0"
      ]
     },
     "execution_count": 2,
     "metadata": {},
     "output_type": "execute_result"
    }
   ],
   "source": [
    "n=['TimesTamp', 'ECP', 'Antenna', 'RSSI','Channel','Address']\n",
    "p='../1-RawData/datasetfinale/cible_parasites/25/droitebas-cible-avec-parasites-p25__02-11-2020_16h_55m_14s.csv'\n",
    "d=','\n",
    "def importData(path, delimit,cols):\n",
    "    return pd.read_csv(path, sep=delimit,names=cols)\n",
    "\n",
    "data=importData(p,d,n)\n",
    "data = data.drop([0],axis=0) #Suppression de la 1ere ligne\n",
    "data = data.drop([1],axis=0) #Suppression de la 1ere ligne\n",
    "data = data.drop([2],axis=0) #Suppression de la 1ere \n",
    "data = data.drop(['Channel'],axis=1) #Suppression de la 1ere \n",
    "data = data.drop(['Address'],axis=1) #Suppression de la 1ere \n",
    "data['FP']=0\n",
    "data.head(5)"
   ]
  },
  {
   "cell_type": "markdown",
   "metadata": {},
   "source": [
    "### TYPAGE DES CHAMPS\n",
    "Nos allons typer les différentes colonnes du dataSet avec les types primaires de python "
   ]
  },
  {
   "cell_type": "code",
   "execution_count": 3,
   "metadata": {},
   "outputs": [
    {
     "name": "stdout",
     "output_type": "stream",
     "text": [
      "<class 'pandas.core.frame.DataFrame'>\n",
      "Int64Index: 414 entries, 3 to 416\n",
      "Data columns (total 5 columns):\n",
      "TimesTamp    414 non-null int64\n",
      "ECP          414 non-null object\n",
      "Antenna      414 non-null int64\n",
      "RSSI         414 non-null float64\n",
      "FP           414 non-null int64\n",
      "dtypes: float64(1), int64(3), object(1)\n",
      "memory usage: 19.4+ KB\n"
     ]
    },
    {
     "data": {
      "text/plain": [
       "(414, 5)"
      ]
     },
     "execution_count": 3,
     "metadata": {},
     "output_type": "execute_result"
    }
   ],
   "source": [
    "def typage(data):\n",
    "    data['ECP']=data['ECP'].astype(str)\n",
    "    data['TimesTamp']=data['TimesTamp'].astype('int64')\n",
    "    data['RSSI']=data['RSSI'].astype('float64')\n",
    "    data['Antenna']=data['Antenna'].astype('int64')\n",
    "    data['FP']=data['FP'].astype('int64')\n",
    "    return data\n",
    "\n",
    "data=typage(data)\n",
    "data.info()\n",
    "data.shape"
   ]
  },
  {
   "cell_type": "code",
   "execution_count": 4,
   "metadata": {},
   "outputs": [
    {
     "name": "stdout",
     "output_type": "stream",
     "text": [
      "firstSize 2070\n",
      "secondSize 1905\n",
      "firstSize 1905\n",
      "secondSize 1905\n",
      "firstSize 1905\n",
      "secondSize 1765\n",
      "firstSize 1765\n",
      "secondSize 1655\n"
     ]
    }
   ],
   "source": [
    "'''\n",
    "3005FB63AC1F3681EC880468, 1532AC20AC1F3681EC880468, 0000FB63AC1F3681EC880468, 1007FB63AC1F3681EC880468\n",
    "'''\n",
    "def deleteRowByECP(datas, ecp):\n",
    "    print('firstSize', datas.size)\n",
    "    datas=datas[datas.ECP!=ecp]\n",
    "    print('secondSize', datas.size)\n",
    "    return datas\n",
    "\n",
    "data = deleteRowByECP(data,'3005FB63AC1F3681EC880468')\n",
    "data = deleteRowByECP(data,'1532AC20AC1F3681EC880468')\n",
    "data = deleteRowByECP(data,'0000FB63AC1F3681EC880468')\n",
    "data = deleteRowByECP(data,'1007FB63AC1F3681EC880468')\n"
   ]
  },
  {
   "cell_type": "code",
   "execution_count": 5,
   "metadata": {},
   "outputs": [
    {
     "name": "stdout",
     "output_type": "stream",
     "text": [
      "47\n",
      "47\n"
     ]
    },
    {
     "data": {
      "text/html": [
       "<div>\n",
       "<style scoped>\n",
       "    .dataframe tbody tr th:only-of-type {\n",
       "        vertical-align: middle;\n",
       "    }\n",
       "\n",
       "    .dataframe tbody tr th {\n",
       "        vertical-align: top;\n",
       "    }\n",
       "\n",
       "    .dataframe thead th {\n",
       "        text-align: right;\n",
       "    }\n",
       "</style>\n",
       "<table border=\"1\" class=\"dataframe\">\n",
       "  <thead>\n",
       "    <tr style=\"text-align: right;\">\n",
       "      <th></th>\n",
       "      <th>TimesTamp</th>\n",
       "      <th>ECP</th>\n",
       "      <th>Antenna</th>\n",
       "      <th>RSSI</th>\n",
       "      <th>FP</th>\n",
       "    </tr>\n",
       "  </thead>\n",
       "  <tbody>\n",
       "    <tr>\n",
       "      <td>3</td>\n",
       "      <td>1581427753033891</td>\n",
       "      <td>E28068900000000018345317</td>\n",
       "      <td>1</td>\n",
       "      <td>-60.5</td>\n",
       "      <td>0</td>\n",
       "    </tr>\n",
       "    <tr>\n",
       "      <td>4</td>\n",
       "      <td>1581427753054162</td>\n",
       "      <td>E28068900000000018345317</td>\n",
       "      <td>1</td>\n",
       "      <td>-60.0</td>\n",
       "      <td>0</td>\n",
       "    </tr>\n",
       "    <tr>\n",
       "      <td>5</td>\n",
       "      <td>1581427753269703</td>\n",
       "      <td>E28068900000000018345317</td>\n",
       "      <td>1</td>\n",
       "      <td>-60.0</td>\n",
       "      <td>0</td>\n",
       "    </tr>\n",
       "    <tr>\n",
       "      <td>6</td>\n",
       "      <td>1581427753298921</td>\n",
       "      <td>E28068900000000018345317</td>\n",
       "      <td>1</td>\n",
       "      <td>-59.5</td>\n",
       "      <td>0</td>\n",
       "    </tr>\n",
       "    <tr>\n",
       "      <td>7</td>\n",
       "      <td>1581427753513094</td>\n",
       "      <td>E28068900000000018345317</td>\n",
       "      <td>1</td>\n",
       "      <td>-59.5</td>\n",
       "      <td>0</td>\n",
       "    </tr>\n",
       "  </tbody>\n",
       "</table>\n",
       "</div>"
      ],
      "text/plain": [
       "          TimesTamp                       ECP  Antenna  RSSI  FP\n",
       "3  1581427753033891  E28068900000000018345317        1 -60.5   0\n",
       "4  1581427753054162  E28068900000000018345317        1 -60.0   0\n",
       "5  1581427753269703  E28068900000000018345317        1 -60.0   0\n",
       "6  1581427753298921  E28068900000000018345317        1 -59.5   0\n",
       "7  1581427753513094  E28068900000000018345317        1 -59.5   0"
      ]
     },
     "execution_count": 5,
     "metadata": {},
     "output_type": "execute_result"
    }
   ],
   "source": [
    "parasites = ['3025AB20CA1F3681CF101116','3025AB20CA1F3681CF10111B','90134BC1F1CE3781AEA1000A',\n",
    "'90134BC1F1CE3781AEA10009','E2806890000000001834545B','E28068900000000018345DFC',\n",
    "'E28068900000000018345317','90134BC1F1CE3781AEA10012','9014FB63AC1F3681EC880901',\n",
    "'90134BC1F1CE3781AEA10023','E2806890000000001834545C', '90134BC1F1CE3781AEA10021',\n",
    "'90144BC1F1CE3681EA880912','90134BC1F1CE3781AEA10025','3025AB20CA1F3681CF101119',\n",
    "'E28068900000000018344E55','E28068900000000018344F88', 'E28068900000000018344F9A',\n",
    "'E28068900000000018344F87','E28068900000000018344AC4','E2806890000000001834580B',\n",
    "'90134BC1F1CE3781AEA10002','3025AB20CA1F3681CF10111A','E28068900000000018345944',\n",
    "'E28068900000000018345804','E28068900000000018344E66','E28068900000000018345329',\n",
    "'E28068900000000018345CD5','E28068900000000018344F93','E2806890000000001834580A',\n",
    "'4001FBCAAC1F3690ED880512','90134BC1F1CE3781AEA1001A', '300000000000000000017868', \n",
    "'30000000000000000001786C', '30000000000000000001786E', '300000000000000000017866', \n",
    "'30000000000000000001786D', '30000000000000000001786A', '300000000000000000017865', \n",
    "'300000000000000000017863', '3000000000000000000178BE', 'E28068900000000018345CCE',\n",
    "'3025AB20CA1F3681CF101118','3025AB20CA1F3681CF10111D','E28068900000000018345455',\n",
    "'90134BC1F1CE3781AEA1000F','E28068900000000018345CD4']\n",
    "print(len(parasites))\n",
    "parasites=list(set(parasites))\n",
    "print(len(parasites))\n",
    "data.head(5)"
   ]
  },
  {
   "cell_type": "code",
   "execution_count": 27,
   "metadata": {},
   "outputs": [
    {
     "data": {
      "text/plain": [
       "79"
      ]
     },
     "execution_count": 27,
     "metadata": {},
     "output_type": "execute_result"
    }
   ],
   "source": [
    "group=data.groupby('ECP')\n",
    "len(group)"
   ]
  },
  {
   "cell_type": "code",
   "execution_count": 6,
   "metadata": {},
   "outputs": [
    {
     "name": "stdout",
     "output_type": "stream",
     "text": [
      "1\n",
      "2\n",
      "3\n",
      "4\n",
      "5\n",
      "6\n",
      "7\n",
      "8\n",
      "9\n",
      "10\n",
      "11\n",
      "12\n",
      "13\n",
      "14\n",
      "15\n",
      "16\n",
      "17\n",
      "18\n",
      "19\n",
      "20\n",
      "21\n",
      "22\n",
      "23\n",
      "24\n",
      "25\n",
      "26\n",
      "27\n",
      "28\n",
      "29\n",
      "30\n",
      "31\n",
      "32\n",
      "33\n",
      "34\n",
      "35\n",
      "36\n",
      "37\n",
      "38\n",
      "39\n",
      "40\n",
      "41\n",
      "42\n",
      "43\n",
      "44\n",
      "45\n",
      "46\n",
      "47\n",
      "48\n",
      "49\n",
      "50\n",
      "51\n",
      "52\n",
      "53\n",
      "54\n",
      "55\n",
      "56\n",
      "57\n",
      "58\n",
      "59\n",
      "60\n",
      "Empty DataFrame\n",
      "Columns: []\n",
      "Index: []\n"
     ]
    }
   ],
   "source": [
    "def setFalsePositive(fp_list, dataSet):\n",
    "    #fp={}\n",
    "    df=pd.DataFrame({})\n",
    "    i=0\n",
    "    for d in dataSet.values:\n",
    "        #fp[e]=0\n",
    "        for f in fp_list:\n",
    "            #print(f)\n",
    "            if(d[1]==f):\n",
    "                d[4]=1\n",
    "                #fp[e]=1\n",
    "                #print(f)\n",
    "                i=i+1\n",
    "                print(i)\n",
    "        #df.append(d)\n",
    "    return df\n",
    "\n",
    "#fp= setFalsePositive(parasites,data)\n",
    "dfp= setFalsePositive(parasites,data)\n",
    "#print(fp)\n",
    "#dd={'ECP':list(fp.keys()), 'FP':list(fp.values())}\n",
    "#pf=pd.DataFrame(dd)\n",
    "print(dfp)\n",
    "\n",
    "#j=0\n",
    "#for e in data.ECP:\n",
    "#    for i in pf:\n",
    "#        if (e!=i.index):\n",
    "#            print(\"if\")\n",
    "#            data[data.ECP==e, data.FP] == i.values\n",
    "            \n",
    "        #else:\n",
    "         #   data[[e], ['FP']] == i.values\n",
    "#data['FP'] = pd.Series(fp).values \n",
    "\n",
    "#data.head(10)"
   ]
  },
  {
   "cell_type": "markdown",
   "metadata": {},
   "source": [
    "### Export Data\n",
    "Nous allons sauvegarder les donées dans un fichier .csv"
   ]
  },
  {
   "cell_type": "code",
   "execution_count": 94,
   "metadata": {
    "collapsed": true
   },
   "outputs": [],
   "source": [
    "import time\n",
    "def exportData(data, path):\n",
    "    data.to_csv(path, index = None, header=False)\n",
    "    "
   ]
  },
  {
   "cell_type": "code",
   "execution_count": 95,
   "metadata": {},
   "outputs": [],
   "source": [
    "path='../2-TransformedData/DerriereGaucheBas-p30__02-11-2020_15h_05m_20s.csv'\n",
    "exportData(data, path)"
   ]
  }
 ],
 "metadata": {
  "kernelspec": {
   "display_name": "Python 3",
   "language": "python",
   "name": "python3"
  },
  "language_info": {
   "codemirror_mode": {
    "name": "ipython",
    "version": 3
   },
   "file_extension": ".py",
   "mimetype": "text/x-python",
   "name": "python",
   "nbconvert_exporter": "python",
   "pygments_lexer": "ipython3",
   "version": "3.7.4"
  }
 },
 "nbformat": 4,
 "nbformat_minor": 2
}
