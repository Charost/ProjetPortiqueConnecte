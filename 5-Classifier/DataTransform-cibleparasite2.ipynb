{
 "cells": [
  {
   "cell_type": "markdown",
   "metadata": {},
   "source": [
    "### Import library\n",
    "Nous allons importer les bibliothèque numpy et pandas qui sont necessaire pour le traitement."
   ]
  },
  {
   "cell_type": "code",
   "execution_count": 17,
   "metadata": {
    "collapsed": true
   },
   "outputs": [],
   "source": [
    "import pandas as pd\n",
    "import numpy as np"
   ]
  },
  {
   "cell_type": "markdown",
   "metadata": {},
   "source": [
    "### Import Data\n",
    "Nous allons importer les données depuis le répertoire RAwData pour enfin les traiter et transformer"
   ]
  },
  {
   "cell_type": "code",
   "execution_count": 204,
   "metadata": {
    "collapsed": true
   },
   "outputs": [],
   "source": [
    "k=\"87\"  #numéro à incrémenter\n",
    "fullname=\"milieu-etgauchederrierep27__02-11-2020_17h_27m_30s\"\n",
    "name=\"milieu-etgauchederrierep27\" #fullname sans la data\n",
    "power=\"27\""
   ]
  },
  {
   "cell_type": "code",
   "execution_count": 205,
   "metadata": {},
   "outputs": [
    {
     "data": {
      "text/html": [
       "<div>\n",
       "<style scoped>\n",
       "    .dataframe tbody tr th:only-of-type {\n",
       "        vertical-align: middle;\n",
       "    }\n",
       "\n",
       "    .dataframe tbody tr th {\n",
       "        vertical-align: top;\n",
       "    }\n",
       "\n",
       "    .dataframe thead th {\n",
       "        text-align: right;\n",
       "    }\n",
       "</style>\n",
       "<table border=\"1\" class=\"dataframe\">\n",
       "  <thead>\n",
       "    <tr style=\"text-align: right;\">\n",
       "      <th></th>\n",
       "      <th>TimesTamp</th>\n",
       "      <th>ECP</th>\n",
       "      <th>Antenna</th>\n",
       "      <th>RSSI</th>\n",
       "      <th>FP</th>\n",
       "    </tr>\n",
       "  </thead>\n",
       "  <tbody>\n",
       "    <tr>\n",
       "      <th>3</th>\n",
       "      <td>1581429688554361</td>\n",
       "      <td>E28068900000000018345804</td>\n",
       "      <td>1</td>\n",
       "      <td>-62.5</td>\n",
       "      <td>0</td>\n",
       "    </tr>\n",
       "    <tr>\n",
       "      <th>4</th>\n",
       "      <td>1581429688555691</td>\n",
       "      <td>E28068900000000018345317</td>\n",
       "      <td>1</td>\n",
       "      <td>-56</td>\n",
       "      <td>0</td>\n",
       "    </tr>\n",
       "    <tr>\n",
       "      <th>5</th>\n",
       "      <td>1581429688576800</td>\n",
       "      <td>90134BC1F1CE3781AEA1001A</td>\n",
       "      <td>1</td>\n",
       "      <td>-62</td>\n",
       "      <td>0</td>\n",
       "    </tr>\n",
       "    <tr>\n",
       "      <th>6</th>\n",
       "      <td>1581429688592010</td>\n",
       "      <td>E28068900000000018345317</td>\n",
       "      <td>1</td>\n",
       "      <td>-56</td>\n",
       "      <td>0</td>\n",
       "    </tr>\n",
       "    <tr>\n",
       "      <th>7</th>\n",
       "      <td>1581429688593466</td>\n",
       "      <td>E28068900000000018345804</td>\n",
       "      <td>1</td>\n",
       "      <td>-63.5</td>\n",
       "      <td>0</td>\n",
       "    </tr>\n",
       "  </tbody>\n",
       "</table>\n",
       "</div>"
      ],
      "text/plain": [
       "          TimesTamp                       ECP Antenna   RSSI  FP\n",
       "3  1581429688554361  E28068900000000018345804       1  -62.5   0\n",
       "4  1581429688555691  E28068900000000018345317       1    -56   0\n",
       "5  1581429688576800  90134BC1F1CE3781AEA1001A       1    -62   0\n",
       "6  1581429688592010  E28068900000000018345317       1    -56   0\n",
       "7  1581429688593466  E28068900000000018345804       1  -63.5   0"
      ]
     },
     "execution_count": 205,
     "metadata": {},
     "output_type": "execute_result"
    }
   ],
   "source": [
    "n=['TimesTamp', 'ECP', 'Antenna', 'RSSI','Channel','Address']\n",
    "p='../1-RawData/datasetfinale/cible_parasites/'+power+'/'+fullname+'.csv'\n",
    "d=','\n",
    "def importData(path, delimit,cols):\n",
    "    return pd.read_csv(path, sep=delimit,names=cols)\n",
    "\n",
    "data=importData(p,d,n)\n",
    "data = data.drop([0],axis=0) #Suppression de la 1ere ligne\n",
    "data = data.drop([1],axis=0) #Suppression de la 1ere ligne\n",
    "data = data.drop([2],axis=0) #Suppression de la 1ere \n",
    "data = data.drop(['Channel'],axis=1) #Suppression de la 1ere \n",
    "data = data.drop(['Address'],axis=1) #Suppression de la 1ere \n",
    "data['FP']=0\n",
    "data.head(5)"
   ]
  },
  {
   "cell_type": "markdown",
   "metadata": {},
   "source": [
    "### TYPAGE DES CHAMPS\n",
    "Nos allons typer les différentes colonnes du dataSet avec les types primaires de python"
   ]
  },
  {
   "cell_type": "code",
   "execution_count": 206,
   "metadata": {},
   "outputs": [
    {
     "name": "stdout",
     "output_type": "stream",
     "text": [
      "<class 'pandas.core.frame.DataFrame'>\n",
      "Int64Index: 559 entries, 3 to 561\n",
      "Data columns (total 5 columns):\n",
      "TimesTamp    559 non-null int64\n",
      "ECP          559 non-null object\n",
      "Antenna      559 non-null int64\n",
      "RSSI         559 non-null float64\n",
      "FP           559 non-null int64\n",
      "dtypes: float64(1), int64(3), object(1)\n",
      "memory usage: 26.2+ KB\n"
     ]
    },
    {
     "data": {
      "text/plain": [
       "(559, 5)"
      ]
     },
     "execution_count": 206,
     "metadata": {},
     "output_type": "execute_result"
    }
   ],
   "source": [
    "def typage(data):\n",
    "    data['ECP']=data['ECP'].astype(str)\n",
    "    data['TimesTamp']=data['TimesTamp'].astype('int64')\n",
    "    data['RSSI']=data['RSSI'].astype('float64')\n",
    "    data['Antenna']=data['Antenna'].astype('int64')\n",
    "    data['FP']=data['FP'].astype('int64')\n",
    "    return data\n",
    "\n",
    "data=typage(data)\n",
    "data.info()\n",
    "data.shape"
   ]
  },
  {
   "cell_type": "code",
   "execution_count": 207,
   "metadata": {},
   "outputs": [
    {
     "name": "stdout",
     "output_type": "stream",
     "text": [
      "firstSize 2795\n",
      "secondSize 2525\n",
      "firstSize 2525\n",
      "secondSize 2505\n",
      "firstSize 2505\n",
      "secondSize 2305\n",
      "firstSize 2305\n",
      "secondSize 2125\n"
     ]
    }
   ],
   "source": [
    "'''\n",
    "3005FB63AC1F3681EC880468, 1532AC20AC1F3681EC880468, 0000FB63AC1F3681EC880468, 1007FB63AC1F3681EC880468\n",
    "'''\n",
    "def deleteRowByECP(datas, ecp):\n",
    "    print('firstSize', datas.size)\n",
    "    datas=datas[datas.ECP!=ecp]\n",
    "    print('secondSize', datas.size)\n",
    "    return datas\n",
    "\n",
    "data = deleteRowByECP(data,'3005FB63AC1F3681EC880468')\n",
    "data = deleteRowByECP(data,'1532AC20AC1F3681EC880468')\n",
    "data = deleteRowByECP(data,'0000FB63AC1F3681EC880468')\n",
    "data = deleteRowByECP(data,'1007FB63AC1F3681EC880468')"
   ]
  },
  {
   "cell_type": "code",
   "execution_count": 208,
   "metadata": {},
   "outputs": [
    {
     "name": "stdout",
     "output_type": "stream",
     "text": [
      "47\n",
      "47\n"
     ]
    },
    {
     "data": {
      "text/plain": [
       "(425, 5)"
      ]
     },
     "execution_count": 208,
     "metadata": {},
     "output_type": "execute_result"
    }
   ],
   "source": [
    "parasites = ['3025AB20CA1F3681CF101116','3025AB20CA1F3681CF10111B','90134BC1F1CE3781AEA1000A',\n",
    "'90134BC1F1CE3781AEA10009','E2806890000000001834545B','E28068900000000018345DFC',\n",
    "'E28068900000000018345317','90134BC1F1CE3781AEA10012','9014FB63AC1F3681EC880901',\n",
    "'90134BC1F1CE3781AEA10023','E2806890000000001834545C', '90134BC1F1CE3781AEA10021',\n",
    "'90144BC1F1CE3681EA880912','90134BC1F1CE3781AEA10025','3025AB20CA1F3681CF101119',\n",
    "'E28068900000000018344E55','E28068900000000018344F88', 'E28068900000000018344F9A',\n",
    "'E28068900000000018344F87','E28068900000000018344AC4','E2806890000000001834580B',\n",
    "'90134BC1F1CE3781AEA10002','3025AB20CA1F3681CF10111A','E28068900000000018345944',\n",
    "'E28068900000000018345804','E28068900000000018344E66','E28068900000000018345329',\n",
    "'E28068900000000018345CD5','E28068900000000018344F93','E2806890000000001834580A',\n",
    "'4001FBCAAC1F3690ED880512','90134BC1F1CE3781AEA1001A', '300000000000000000017868', \n",
    "'30000000000000000001786C', '30000000000000000001786E', '300000000000000000017866', \n",
    "'30000000000000000001786D', '30000000000000000001786A', '300000000000000000017865', \n",
    "'300000000000000000017863', '3000000000000000000178BE', 'E28068900000000018345CCE',\n",
    "'3025AB20CA1F3681CF101118','3025AB20CA1F3681CF10111D','E28068900000000018345455',\n",
    "'90134BC1F1CE3781AEA1000F','E28068900000000018345CD4']\n",
    "print(len(parasites))\n",
    "parasites=list(set(parasites))\n",
    "print(len(parasites))\n",
    "data.shape"
   ]
  },
  {
   "cell_type": "markdown",
   "metadata": {},
   "source": [
    "### Set False Positive \n",
    "Nous allons mettre les faux positives à 1 dans la liste"
   ]
  },
  {
   "cell_type": "code",
   "execution_count": 209,
   "metadata": {
    "scrolled": true
   },
   "outputs": [],
   "source": [
    "def objectExist (objecttag,listofparasites): \n",
    "    for dp in listofparasites:\n",
    "        if(objecttag==dp):\n",
    "            return True\n",
    "    return False\n",
    "def setFalsePositive(fp_list, dataSet):\n",
    "    lp=[]\n",
    "    for dp in dataSet.values:\n",
    "        if objectExist(dp[1],fp_list)==True:\n",
    "            dp[4]=1\n",
    "            lp.append(dp) \n",
    "        else :\n",
    "            lp.append(dp)    \n",
    "    l=lp\n",
    "    \n",
    "    df=pd.DataFrame(l, columns=['TimesTamp', 'ECP', 'Antenna', 'RSSI','FP'])\n",
    "    return df\n",
    "\n",
    "data= setFalsePositive(parasites,data)"
   ]
  },
  {
   "cell_type": "markdown",
   "metadata": {},
   "source": [
    "### Rename ECP\n",
    "Nous allons rajouter un suffix au nom des ECP pour pouvoir eviter les conflits quand il y aura un merge"
   ]
  },
  {
   "cell_type": "code",
   "execution_count": 210,
   "metadata": {},
   "outputs": [
    {
     "data": {
      "text/html": [
       "<div>\n",
       "<style scoped>\n",
       "    .dataframe tbody tr th:only-of-type {\n",
       "        vertical-align: middle;\n",
       "    }\n",
       "\n",
       "    .dataframe tbody tr th {\n",
       "        vertical-align: top;\n",
       "    }\n",
       "\n",
       "    .dataframe thead th {\n",
       "        text-align: right;\n",
       "    }\n",
       "</style>\n",
       "<table border=\"1\" class=\"dataframe\">\n",
       "  <thead>\n",
       "    <tr style=\"text-align: right;\">\n",
       "      <th></th>\n",
       "      <th>TimesTamp</th>\n",
       "      <th>ECP</th>\n",
       "      <th>Antenna</th>\n",
       "      <th>RSSI</th>\n",
       "      <th>FP</th>\n",
       "    </tr>\n",
       "  </thead>\n",
       "  <tbody>\n",
       "    <tr>\n",
       "      <th>0</th>\n",
       "      <td>1581429688554361</td>\n",
       "      <td>E2806890000000001834580487</td>\n",
       "      <td>1</td>\n",
       "      <td>-62.5</td>\n",
       "      <td>1</td>\n",
       "    </tr>\n",
       "    <tr>\n",
       "      <th>1</th>\n",
       "      <td>1581429688555691</td>\n",
       "      <td>E2806890000000001834531787</td>\n",
       "      <td>1</td>\n",
       "      <td>-56.0</td>\n",
       "      <td>1</td>\n",
       "    </tr>\n",
       "    <tr>\n",
       "      <th>2</th>\n",
       "      <td>1581429688576800</td>\n",
       "      <td>90134BC1F1CE3781AEA1001A87</td>\n",
       "      <td>1</td>\n",
       "      <td>-62.0</td>\n",
       "      <td>1</td>\n",
       "    </tr>\n",
       "    <tr>\n",
       "      <th>3</th>\n",
       "      <td>1581429688592010</td>\n",
       "      <td>E2806890000000001834531787</td>\n",
       "      <td>1</td>\n",
       "      <td>-56.0</td>\n",
       "      <td>1</td>\n",
       "    </tr>\n",
       "    <tr>\n",
       "      <th>4</th>\n",
       "      <td>1581429688593466</td>\n",
       "      <td>E2806890000000001834580487</td>\n",
       "      <td>1</td>\n",
       "      <td>-63.5</td>\n",
       "      <td>1</td>\n",
       "    </tr>\n",
       "  </tbody>\n",
       "</table>\n",
       "</div>"
      ],
      "text/plain": [
       "          TimesTamp                         ECP  Antenna  RSSI  FP\n",
       "0  1581429688554361  E2806890000000001834580487        1 -62.5   1\n",
       "1  1581429688555691  E2806890000000001834531787        1 -56.0   1\n",
       "2  1581429688576800  90134BC1F1CE3781AEA1001A87        1 -62.0   1\n",
       "3  1581429688592010  E2806890000000001834531787        1 -56.0   1\n",
       "4  1581429688593466  E2806890000000001834580487        1 -63.5   1"
      ]
     },
     "execution_count": 210,
     "metadata": {},
     "output_type": "execute_result"
    }
   ],
   "source": [
    "data.ECP = data.ECP.values+k\n",
    "data.head(5)"
   ]
  },
  {
   "cell_type": "markdown",
   "metadata": {},
   "source": [
    "### Export Data\n",
    "Nous allons sauvegarder les donées dans un fichier .csv"
   ]
  },
  {
   "cell_type": "code",
   "execution_count": 211,
   "metadata": {
    "collapsed": true
   },
   "outputs": [],
   "source": [
    "import time\n",
    "def exportData(data, path):\n",
    "    data.to_csv(path, index = None, header=False)"
   ]
  },
  {
   "cell_type": "code",
   "execution_count": 212,
   "metadata": {},
   "outputs": [],
   "source": [
    "path='../1-RawData/datasetfinale/cible_parasites/Data_transformed_'+power+'/'+k+'-'+name+'.csv'\n",
    "exportData(data, path)"
   ]
  }
 ],
 "metadata": {
  "kernelspec": {
   "display_name": "Python 3",
   "language": "python",
   "name": "python3"
  },
  "language_info": {
   "codemirror_mode": {
    "name": "ipython",
    "version": 3
   },
   "file_extension": ".py",
   "mimetype": "text/x-python",
   "name": "python",
   "nbconvert_exporter": "python",
   "pygments_lexer": "ipython3",
   "version": "3.6.3"
  }
 },
 "nbformat": 4,
 "nbformat_minor": 2
}
