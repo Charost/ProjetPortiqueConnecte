{
 "cells": [
  {
   "cell_type": "markdown",
   "metadata": {},
   "source": [
    "### Import library\n",
    "Nous allons importer les bibliothèque numpy et pandas qui sont necessaire pour le traitement."
   ]
  },
  {
   "cell_type": "code",
   "execution_count": 2,
   "metadata": {
    "collapsed": true
   },
   "outputs": [],
   "source": [
    "import pandas as pd\n",
    "import numpy as np"
   ]
  },
  {
   "cell_type": "markdown",
   "metadata": {},
   "source": [
    "### Import Data\n",
    "Nous allons importer les données depuis le répertoire RAwData pour enfin les traiter et transformer"
   ]
  },
  {
   "cell_type": "code",
   "execution_count": 6,
   "metadata": {},
   "outputs": [
    {
     "name": "stdout",
     "output_type": "stream",
     "text": [
      "(5925, 5)\n"
     ]
    },
    {
     "data": {
      "text/html": [
       "<div>\n",
       "<style scoped>\n",
       "    .dataframe tbody tr th:only-of-type {\n",
       "        vertical-align: middle;\n",
       "    }\n",
       "\n",
       "    .dataframe tbody tr th {\n",
       "        vertical-align: top;\n",
       "    }\n",
       "\n",
       "    .dataframe thead th {\n",
       "        text-align: right;\n",
       "    }\n",
       "</style>\n",
       "<table border=\"1\" class=\"dataframe\">\n",
       "  <thead>\n",
       "    <tr style=\"text-align: right;\">\n",
       "      <th></th>\n",
       "      <th>TimesTamp</th>\n",
       "      <th>ECP</th>\n",
       "      <th>Antenna</th>\n",
       "      <th>RSSI</th>\n",
       "      <th>FP</th>\n",
       "    </tr>\n",
       "  </thead>\n",
       "  <tbody>\n",
       "    <tr>\n",
       "      <th>0</th>\n",
       "      <td>1581420971718832</td>\n",
       "      <td>3005FB63AC1F3681EC88149C21</td>\n",
       "      <td>1</td>\n",
       "      <td>-62.5</td>\n",
       "      <td>0</td>\n",
       "    </tr>\n",
       "    <tr>\n",
       "      <th>1</th>\n",
       "      <td>1581420971731907</td>\n",
       "      <td>2005FB63AC1F3681AB1004E321</td>\n",
       "      <td>1</td>\n",
       "      <td>-66.5</td>\n",
       "      <td>0</td>\n",
       "    </tr>\n",
       "    <tr>\n",
       "      <th>2</th>\n",
       "      <td>1581420971761284</td>\n",
       "      <td>3005FB63AC1F3681EC88149C21</td>\n",
       "      <td>1</td>\n",
       "      <td>-62.5</td>\n",
       "      <td>0</td>\n",
       "    </tr>\n",
       "    <tr>\n",
       "      <th>3</th>\n",
       "      <td>1581420972009461</td>\n",
       "      <td>2005FB63AC1F3681AB1004E321</td>\n",
       "      <td>1</td>\n",
       "      <td>-65.0</td>\n",
       "      <td>0</td>\n",
       "    </tr>\n",
       "    <tr>\n",
       "      <th>4</th>\n",
       "      <td>1581420972227990</td>\n",
       "      <td>3005FB63AC1F3681EC88149C21</td>\n",
       "      <td>1</td>\n",
       "      <td>-59.5</td>\n",
       "      <td>0</td>\n",
       "    </tr>\n",
       "    <tr>\n",
       "      <th>5</th>\n",
       "      <td>1581420972256745</td>\n",
       "      <td>3005FB63AC1F3681EC8812DB21</td>\n",
       "      <td>1</td>\n",
       "      <td>-59.0</td>\n",
       "      <td>0</td>\n",
       "    </tr>\n",
       "    <tr>\n",
       "      <th>6</th>\n",
       "      <td>1581420972298026</td>\n",
       "      <td>3005FB63AC1F3681EC8812DB21</td>\n",
       "      <td>1</td>\n",
       "      <td>-58.0</td>\n",
       "      <td>0</td>\n",
       "    </tr>\n",
       "    <tr>\n",
       "      <th>7</th>\n",
       "      <td>1581420972513159</td>\n",
       "      <td>3005FB63AC1F3681EC8812DB21</td>\n",
       "      <td>1</td>\n",
       "      <td>-58.0</td>\n",
       "      <td>0</td>\n",
       "    </tr>\n",
       "    <tr>\n",
       "      <th>8</th>\n",
       "      <td>1581420972528325</td>\n",
       "      <td>3005FB63AC1F3681EC88149021</td>\n",
       "      <td>1</td>\n",
       "      <td>-62.5</td>\n",
       "      <td>0</td>\n",
       "    </tr>\n",
       "    <tr>\n",
       "      <th>9</th>\n",
       "      <td>1581420972550754</td>\n",
       "      <td>3005FB63AC1F3681EC8811B021</td>\n",
       "      <td>1</td>\n",
       "      <td>-58.5</td>\n",
       "      <td>0</td>\n",
       "    </tr>\n",
       "  </tbody>\n",
       "</table>\n",
       "</div>"
      ],
      "text/plain": [
       "          TimesTamp                         ECP  Antenna  RSSI  FP\n",
       "0  1581420971718832  3005FB63AC1F3681EC88149C21        1 -62.5   0\n",
       "1  1581420971731907  2005FB63AC1F3681AB1004E321        1 -66.5   0\n",
       "2  1581420971761284  3005FB63AC1F3681EC88149C21        1 -62.5   0\n",
       "3  1581420972009461  2005FB63AC1F3681AB1004E321        1 -65.0   0\n",
       "4  1581420972227990  3005FB63AC1F3681EC88149C21        1 -59.5   0\n",
       "5  1581420972256745  3005FB63AC1F3681EC8812DB21        1 -59.0   0\n",
       "6  1581420972298026  3005FB63AC1F3681EC8812DB21        1 -58.0   0\n",
       "7  1581420972513159  3005FB63AC1F3681EC8812DB21        1 -58.0   0\n",
       "8  1581420972528325  3005FB63AC1F3681EC88149021        1 -62.5   0\n",
       "9  1581420972550754  3005FB63AC1F3681EC8811B021        1 -58.5   0"
      ]
     },
     "execution_count": 6,
     "metadata": {},
     "output_type": "execute_result"
    }
   ],
   "source": [
    "n=['TimesTamp', 'ECP', 'Antenna', 'RSSI', 'FP']\n",
    "p='../1-RawData/datasetfinale/mergedFiles/all-3/p25.csv'\n",
    "d=','\n",
    "def importData(path, delimit,cols):\n",
    "    return pd.read_csv(path, sep=delimit,names=cols)\n",
    "\n",
    "data=importData(p,d,n)\n",
    "\n",
    "print(data.shape)\n",
    "data.head(10)"
   ]
  },
  {
   "cell_type": "markdown",
   "metadata": {},
   "source": [
    "### TYPAGE DES CHAMPS\n",
    "Nos allons typer les différentes colonnes du dataSet avec les types primaires de python "
   ]
  },
  {
   "cell_type": "code",
   "execution_count": 7,
   "metadata": {},
   "outputs": [
    {
     "name": "stdout",
     "output_type": "stream",
     "text": [
      "<class 'pandas.core.frame.DataFrame'>\n",
      "RangeIndex: 5925 entries, 0 to 5924\n",
      "Data columns (total 5 columns):\n",
      "TimesTamp    5925 non-null int64\n",
      "ECP          5925 non-null object\n",
      "Antenna      5925 non-null int64\n",
      "RSSI         5925 non-null float64\n",
      "FP           5925 non-null int64\n",
      "dtypes: float64(1), int64(3), object(1)\n",
      "memory usage: 231.5+ KB\n"
     ]
    }
   ],
   "source": [
    "def typage(data):\n",
    "    data['ECP']=data['ECP'].astype(str)\n",
    "    data['TimesTamp']=data['TimesTamp'].astype('int64')\n",
    "    data['RSSI']=data['RSSI'].astype('float64')\n",
    "    data['Antenna']=data['Antenna'].astype('int64')\n",
    "    data['FP']=data['FP'].astype('int64')\n",
    "    return data\n",
    "\n",
    "data=typage(data)\n",
    "data.info()"
   ]
  },
  {
   "cell_type": "markdown",
   "metadata": {},
   "source": [
    "### Build DataSet\n",
    "Nous allons contruire la dataFrame avec les colonnes"
   ]
  },
  {
   "cell_type": "code",
   "execution_count": 20,
   "metadata": {},
   "outputs": [
    {
     "name": "stdout",
     "output_type": "stream",
     "text": [
      "1129\n"
     ]
    },
    {
     "data": {
      "text/plain": [
       "<pandas.core.groupby.DataFrameGroupBy object at 0x7f1d5e4a5c18>"
      ]
     },
     "execution_count": 20,
     "metadata": {},
     "output_type": "execute_result"
    }
   ],
   "source": [
    "grouped_df = data.groupby('ECP')\n",
    "print(len(grouped_df))"
   ]
  },
  {
   "cell_type": "code",
   "execution_count": 19,
   "metadata": {},
   "outputs": [
    {
     "name": "stdout",
     "output_type": "stream",
     "text": [
      "9032\n"
     ]
    },
    {
     "data": {
      "text/html": [
       "<div>\n",
       "<style scoped>\n",
       "    .dataframe tbody tr th:only-of-type {\n",
       "        vertical-align: middle;\n",
       "    }\n",
       "\n",
       "    .dataframe tbody tr th {\n",
       "        vertical-align: top;\n",
       "    }\n",
       "\n",
       "    .dataframe thead th {\n",
       "        text-align: right;\n",
       "    }\n",
       "</style>\n",
       "<table border=\"1\" class=\"dataframe\">\n",
       "  <thead>\n",
       "    <tr style=\"text-align: right;\">\n",
       "      <th></th>\n",
       "      <th>ECP</th>\n",
       "      <th>RC</th>\n",
       "      <th>MIN</th>\n",
       "      <th>MAX</th>\n",
       "      <th>MEAN</th>\n",
       "      <th>START</th>\n",
       "      <th>END</th>\n",
       "      <th>DURATION</th>\n",
       "    </tr>\n",
       "  </thead>\n",
       "  <tbody>\n",
       "    <tr>\n",
       "      <th>0</th>\n",
       "      <td>1007CEA7AC1F3681EAC5106D21</td>\n",
       "      <td>6</td>\n",
       "      <td>-57.0</td>\n",
       "      <td>-49.5</td>\n",
       "      <td>-53.500000</td>\n",
       "      <td>1581420973274508</td>\n",
       "      <td>1581420974357643</td>\n",
       "      <td>1083135</td>\n",
       "    </tr>\n",
       "    <tr>\n",
       "      <th>1</th>\n",
       "      <td>1007CEA7AC1F3681EAC5106D22</td>\n",
       "      <td>1</td>\n",
       "      <td>-62.0</td>\n",
       "      <td>-62.0</td>\n",
       "      <td>-62.000000</td>\n",
       "      <td>1581420688744448</td>\n",
       "      <td>1581420688744448</td>\n",
       "      <td>0</td>\n",
       "    </tr>\n",
       "    <tr>\n",
       "      <th>2</th>\n",
       "      <td>1007CEA7AC1F3681EAC5106D23</td>\n",
       "      <td>6</td>\n",
       "      <td>-56.0</td>\n",
       "      <td>-48.5</td>\n",
       "      <td>-53.083333</td>\n",
       "      <td>1581420883774374</td>\n",
       "      <td>1581420884548849</td>\n",
       "      <td>774475</td>\n",
       "    </tr>\n",
       "    <tr>\n",
       "      <th>3</th>\n",
       "      <td>1007CEA7AC1F3681EAC5106D25</td>\n",
       "      <td>4</td>\n",
       "      <td>-54.0</td>\n",
       "      <td>-45.0</td>\n",
       "      <td>-48.875000</td>\n",
       "      <td>1581420217848224</td>\n",
       "      <td>1581420218371387</td>\n",
       "      <td>523163</td>\n",
       "    </tr>\n",
       "    <tr>\n",
       "      <th>4</th>\n",
       "      <td>1007CEA7AC1F3681EAC5106D26</td>\n",
       "      <td>7</td>\n",
       "      <td>-60.0</td>\n",
       "      <td>-45.0</td>\n",
       "      <td>-51.571429</td>\n",
       "      <td>1581420117430720</td>\n",
       "      <td>1581420118848541</td>\n",
       "      <td>1417821</td>\n",
       "    </tr>\n",
       "    <tr>\n",
       "      <th>5</th>\n",
       "      <td>1007CEA7AC1F3681EAC5106D29</td>\n",
       "      <td>2</td>\n",
       "      <td>-59.5</td>\n",
       "      <td>-58.5</td>\n",
       "      <td>-59.000000</td>\n",
       "      <td>1581419787766006</td>\n",
       "      <td>1581419787836176</td>\n",
       "      <td>70170</td>\n",
       "    </tr>\n",
       "    <tr>\n",
       "      <th>6</th>\n",
       "      <td>1007CEA7AC1F3681EAC5106D30</td>\n",
       "      <td>1</td>\n",
       "      <td>-60.0</td>\n",
       "      <td>-60.0</td>\n",
       "      <td>-60.000000</td>\n",
       "      <td>1581414773721288</td>\n",
       "      <td>1581414773721288</td>\n",
       "      <td>0</td>\n",
       "    </tr>\n",
       "    <tr>\n",
       "      <th>7</th>\n",
       "      <td>1007CEA7AC1F3681EAC5106D31</td>\n",
       "      <td>8</td>\n",
       "      <td>-59.5</td>\n",
       "      <td>-53.5</td>\n",
       "      <td>-56.500000</td>\n",
       "      <td>1581415046776906</td>\n",
       "      <td>1581415047793641</td>\n",
       "      <td>1016735</td>\n",
       "    </tr>\n",
       "    <tr>\n",
       "      <th>8</th>\n",
       "      <td>1007CEA7AC1F3681EAC5106D32</td>\n",
       "      <td>8</td>\n",
       "      <td>-54.0</td>\n",
       "      <td>-39.0</td>\n",
       "      <td>-47.562500</td>\n",
       "      <td>1581414922500972</td>\n",
       "      <td>1581414923792277</td>\n",
       "      <td>1291305</td>\n",
       "    </tr>\n",
       "    <tr>\n",
       "      <th>9</th>\n",
       "      <td>1007CEA7AC1F3681EAC5106D33</td>\n",
       "      <td>16</td>\n",
       "      <td>-60.0</td>\n",
       "      <td>-50.0</td>\n",
       "      <td>-55.781250</td>\n",
       "      <td>1581414578916990</td>\n",
       "      <td>1581414581922373</td>\n",
       "      <td>3005383</td>\n",
       "    </tr>\n",
       "  </tbody>\n",
       "</table>\n",
       "</div>"
      ],
      "text/plain": [
       "                          ECP  RC   MIN   MAX       MEAN             START  \\\n",
       "0  1007CEA7AC1F3681EAC5106D21   6 -57.0 -49.5 -53.500000  1581420973274508   \n",
       "1  1007CEA7AC1F3681EAC5106D22   1 -62.0 -62.0 -62.000000  1581420688744448   \n",
       "2  1007CEA7AC1F3681EAC5106D23   6 -56.0 -48.5 -53.083333  1581420883774374   \n",
       "3  1007CEA7AC1F3681EAC5106D25   4 -54.0 -45.0 -48.875000  1581420217848224   \n",
       "4  1007CEA7AC1F3681EAC5106D26   7 -60.0 -45.0 -51.571429  1581420117430720   \n",
       "5  1007CEA7AC1F3681EAC5106D29   2 -59.5 -58.5 -59.000000  1581419787766006   \n",
       "6  1007CEA7AC1F3681EAC5106D30   1 -60.0 -60.0 -60.000000  1581414773721288   \n",
       "7  1007CEA7AC1F3681EAC5106D31   8 -59.5 -53.5 -56.500000  1581415046776906   \n",
       "8  1007CEA7AC1F3681EAC5106D32   8 -54.0 -39.0 -47.562500  1581414922500972   \n",
       "9  1007CEA7AC1F3681EAC5106D33  16 -60.0 -50.0 -55.781250  1581414578916990   \n",
       "\n",
       "                END  DURATION  \n",
       "0  1581420974357643   1083135  \n",
       "1  1581420688744448         0  \n",
       "2  1581420884548849    774475  \n",
       "3  1581420218371387    523163  \n",
       "4  1581420118848541   1417821  \n",
       "5  1581419787836176     70170  \n",
       "6  1581414773721288         0  \n",
       "7  1581415047793641   1016735  \n",
       "8  1581414923792277   1291305  \n",
       "9  1581414581922373   3005383  "
      ]
     },
     "execution_count": 19,
     "metadata": {},
     "output_type": "execute_result"
    }
   ],
   "source": [
    "from scipy.stats import variation \n",
    "\n",
    "def generateDataSet(data, groupedBy):\n",
    "    grouped_df = data.groupby(groupedBy) #On groupe les données par ...\"Etiquetes\"\n",
    "    \n",
    "    dataSet = pd.DataFrame({}) #Création d'une nouvelle dataFrame\n",
    "    \n",
    "    #Création des variables intermédiaire pour la récupération des champs\n",
    "    ecp=pd.Series(grouped_df.ECP.unique().index,name=\"ECP\")\n",
    "    rc= pd.Series(grouped_df.ECP.count(),name=\"readcount\")\n",
    "    minRSSI= pd.Series(grouped_df.RSSI.min(),name=\"minRssi\")\n",
    "    maxRSSI= pd.Series(grouped_df.RSSI.max(),name=\"maxRssi\")\n",
    "    mean=pd.Series(grouped_df.RSSI.mean(),name=\"meanRssi\")\n",
    "    startTime=pd.Series(grouped_df.TimesTamp.min(),name=\"startTime\")\n",
    "    endTime=pd.Series(grouped_df.TimesTamp.max(),name=\"endTime\")\n",
    "    diff=pd.Series(grouped_df.RSSI.diff,name=\"difference\")\n",
    "    \n",
    "    #Mise à jour des champs de la dataFrame\n",
    "    dataSet['ECP']=ecp.values\n",
    "    dataSet['RC']=rc.values\n",
    "    dataSet['MIN']=minRSSI.values\n",
    "    dataSet['MAX']=maxRSSI.values\n",
    "    dataSet['MEAN']=mean.values\n",
    "    dataSet['START']=startTime.values\n",
    "    dataSet['END']=endTime.values\n",
    "    dataSet['DURATION']=endTime.values-startTime.values\n",
    "    cv={}\n",
    "    a1={}\n",
    "    a2={}\n",
    "    a3={}\n",
    "    a4={}\n",
    "    #for key, item in grouped_df:\n",
    "    #    cv[key]=variation(grouped_df['RSSI'].get_group(key).values,axis=0)\n",
    "    #    a1[key]=0\n",
    "    #    a2[key]=0\n",
    "    #    a3[key]=0\n",
    "    #    a4[key]=0\n",
    "        #for a in grouped_df['Antenna'].get_group(key).values:\n",
    "        #    if(a==1): a1[key]+=1\n",
    "        #    if(a==2): a2[key]+=1\n",
    "        #    if(a==3): a3[key]+=1\n",
    "        #    if(a==4): a4[key]+=1\n",
    "                \n",
    "    #dataSet['CV']=pd.Series(cv).values\n",
    "    #dataSet['A1']=pd.Series(a1).values\n",
    "    #dataSet['A2']=pd.Series(a2).values\n",
    "    #dataSet['A3']=pd.Series(a3).values\n",
    "    #dataSet['A4']=pd.Series(a4).values\n",
    "    \n",
    "    return dataSet\n",
    "\n",
    "dataSet=generateDataSet(data,'ECP')\n",
    "print(dataSet.size)\n",
    "dataSet.head(10)"
   ]
  },
  {
   "cell_type": "markdown",
   "metadata": {},
   "source": [
    "### Export Data\n",
    "Nous allons sauvegarder les donées dans un fichier .csv"
   ]
  },
  {
   "cell_type": "code",
   "execution_count": 11,
   "metadata": {
    "collapsed": true
   },
   "outputs": [],
   "source": [
    "import time\n",
    "def exportData(data, path):\n",
    "    data.to_csv(path, index = None, header=False)\n",
    "    "
   ]
  },
  {
   "cell_type": "markdown",
   "metadata": {},
   "source": [
    "## Export allInOne\n",
    "Exporter l'ensemble des daonnées dans un seul."
   ]
  },
  {
   "cell_type": "code",
   "execution_count": 12,
   "metadata": {
    "collapsed": true
   },
   "outputs": [],
   "source": [
    "tm = time.strftime(\"%Y-%b-%d-%H_%M_%S\")\n",
    "path='../2-TransformedData/dataFinale/p25/dataSet_p25_'+tm+'.csv'\n",
    "exportData(dataSet, path)"
   ]
  },
  {
   "cell_type": "markdown",
   "metadata": {},
   "source": [
    "### Split Data\n",
    "Nous allons découper les données en deux, 80% des trainSets et 20% des tesSets"
   ]
  },
  {
   "cell_type": "code",
   "execution_count": 13,
   "metadata": {
    "collapsed": true
   },
   "outputs": [],
   "source": [
    "def splitDataLE20(data):\n",
    "    dataSet_np = np.random.rand(len(data)) <0.8\n",
    "    trainSet=data[dataSet_np]\n",
    "    testSet=data[~dataSet_np]\n",
    "    return trainSet, testSet\n",
    "\n",
    "from sklearn.model_selection import train_test_split\n",
    "def sliptDataE20(data):\n",
    "    X = data.iloc[:, :-1].values\n",
    "    y = data['FP'].values\n",
    "    X_train, X_test, y_train, y_test = train_test_split(X, y, test_size=0.20)\n",
    "    trainSet=pd.DataFrame(X_train)\n",
    "    trainSet[13]=y_train\n",
    "    \n",
    "    testSet = pd.DataFrame(X_test)\n",
    "    testSet[13] = y_test\n",
    "    return trainSet, testSet"
   ]
  },
  {
   "cell_type": "markdown",
   "metadata": {},
   "source": [
    "### Export Train & Test\n",
    "Nous allons exporter les données découpées en traint et test"
   ]
  },
  {
   "cell_type": "code",
   "execution_count": null,
   "metadata": {
    "collapsed": true
   },
   "outputs": [],
   "source": []
  },
  {
   "cell_type": "code",
   "execution_count": 80,
   "metadata": {
    "collapsed": true
   },
   "outputs": [],
   "source": [
    "tm = time.strftime(\"%Y-%b-%d-%H_%M_%S\")\n",
    "def importData2(path):\n",
    "    #columnNames=[\"ECP\",\"RC\",\"MIN\",\"MAX\",\"MEAN\",\"START\",\"END\",\"DURATION\",\"CV\",\"A1\",\"A2\",\"A3\",\"A4\",\"FP\"]\n",
    "    columnNames=[\"RC\",\"MIN\",\"MAX\",\"MEAN\",\"START\",\"END\",\"DURATION\",\"CV\",\"A1\",\"A2\",\"A3\",\"A4\",\"FP\"]\n",
    "    delimit=','\n",
    "    data = pd.read_csv(path, names=columnNames, sep=delimit)\n",
    "    #data = data.drop(columns=\"ECP\")\n",
    "    return data\n",
    "you_data=importData2('../2-TransformedData/dataSets_you.csv')\n",
    "\n",
    "trainSet, testSet = sliptDataE20(you_data)\n",
    "#trainSet, testSet = sliptDataE20(dataSet)\n",
    "#trainSet, testSet = splitDataLE20(dataSet)\n",
    "\n",
    "pathTrain='../3-DataSet/trainSet_you_'+tm+'.csv'\n",
    "exportData(dataSet, pathTrain)\n",
    "\n",
    "pathTest='../3-DataSet/testSet_you_'+tm+'.csv'\n",
    "exportData(dataSet, pathTest)"
   ]
  }
 ],
 "metadata": {
  "kernelspec": {
   "display_name": "Python 3",
   "language": "python",
   "name": "python3"
  },
  "language_info": {
   "codemirror_mode": {
    "name": "ipython",
    "version": 3
   },
   "file_extension": ".py",
   "mimetype": "text/x-python",
   "name": "python",
   "nbconvert_exporter": "python",
   "pygments_lexer": "ipython3",
   "version": "3.6.3"
  }
 },
 "nbformat": 4,
 "nbformat_minor": 2
}
