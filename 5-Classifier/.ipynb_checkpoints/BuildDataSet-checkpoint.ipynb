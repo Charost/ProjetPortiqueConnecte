{
 "cells": [
  {
   "cell_type": "markdown",
   "metadata": {},
   "source": [
    "### Import library\n",
    "Nous allons importer les bibliothèque numpy et pandas qui sont necessaire pour le traitement."
   ]
  },
  {
   "cell_type": "code",
   "execution_count": 1,
   "metadata": {
    "collapsed": true
   },
   "outputs": [],
   "source": [
    "import pandas as pd\n",
    "import numpy as np"
   ]
  },
  {
   "cell_type": "markdown",
   "metadata": {},
   "source": [
    "### Import Data\n",
    "Nous allons importer les données depuis le répertoire RAwData pour enfin les traiter et transformer"
   ]
  },
  {
   "cell_type": "code",
   "execution_count": 2,
   "metadata": {},
   "outputs": [
    {
     "data": {
      "text/html": [
       "<div>\n",
       "<style scoped>\n",
       "    .dataframe tbody tr th:only-of-type {\n",
       "        vertical-align: middle;\n",
       "    }\n",
       "\n",
       "    .dataframe tbody tr th {\n",
       "        vertical-align: top;\n",
       "    }\n",
       "\n",
       "    .dataframe thead th {\n",
       "        text-align: right;\n",
       "    }\n",
       "</style>\n",
       "<table border=\"1\" class=\"dataframe\">\n",
       "  <thead>\n",
       "    <tr style=\"text-align: right;\">\n",
       "      <th></th>\n",
       "      <th>TimesTamp</th>\n",
       "      <th>ECP</th>\n",
       "      <th>Antenna</th>\n",
       "      <th>RSSI</th>\n",
       "      <th>Channel</th>\n",
       "      <th>Adress</th>\n",
       "    </tr>\n",
       "  </thead>\n",
       "  <tbody>\n",
       "    <tr>\n",
       "      <th>1</th>\n",
       "      <td>1579097579071616</td>\n",
       "      <td>245390003869</td>\n",
       "      <td>3</td>\n",
       "      <td>-64</td>\n",
       "      <td>865.7</td>\n",
       "      <td>192.168.0.10</td>\n",
       "    </tr>\n",
       "    <tr>\n",
       "      <th>2</th>\n",
       "      <td>1579097579131213</td>\n",
       "      <td>E2806E8F00000039005E0E4D</td>\n",
       "      <td>4</td>\n",
       "      <td>-69.5</td>\n",
       "      <td>865.7</td>\n",
       "      <td>192.168.0.10</td>\n",
       "    </tr>\n",
       "    <tr>\n",
       "      <th>3</th>\n",
       "      <td>1579097580688872</td>\n",
       "      <td>245390003869</td>\n",
       "      <td>3</td>\n",
       "      <td>-74.5</td>\n",
       "      <td>865.7</td>\n",
       "      <td>192.168.0.10</td>\n",
       "    </tr>\n",
       "    <tr>\n",
       "      <th>4</th>\n",
       "      <td>1579097580738181</td>\n",
       "      <td>E2806E8F00000039005E0E4D</td>\n",
       "      <td>4</td>\n",
       "      <td>-69.5</td>\n",
       "      <td>865.7</td>\n",
       "      <td>192.168.0.10</td>\n",
       "    </tr>\n",
       "    <tr>\n",
       "      <th>5</th>\n",
       "      <td>1579097581259286</td>\n",
       "      <td>E2806E8F00000039005E0E4D</td>\n",
       "      <td>4</td>\n",
       "      <td>-69.5</td>\n",
       "      <td>865.7</td>\n",
       "      <td>192.168.0.10</td>\n",
       "    </tr>\n",
       "    <tr>\n",
       "      <th>6</th>\n",
       "      <td>1579097581510342</td>\n",
       "      <td>245390003869</td>\n",
       "      <td>4</td>\n",
       "      <td>-71.5</td>\n",
       "      <td>865.7</td>\n",
       "      <td>192.168.0.10</td>\n",
       "    </tr>\n",
       "    <tr>\n",
       "      <th>7</th>\n",
       "      <td>1579097581772247</td>\n",
       "      <td>E2806E8F00000039005E0E4D</td>\n",
       "      <td>4</td>\n",
       "      <td>-69.5</td>\n",
       "      <td>865.7</td>\n",
       "      <td>192.168.0.10</td>\n",
       "    </tr>\n",
       "    <tr>\n",
       "      <th>8</th>\n",
       "      <td>1579097582059455</td>\n",
       "      <td>E28068940000500640E060E8</td>\n",
       "      <td>4</td>\n",
       "      <td>-74.5</td>\n",
       "      <td>865.7</td>\n",
       "      <td>192.168.0.10</td>\n",
       "    </tr>\n",
       "    <tr>\n",
       "      <th>9</th>\n",
       "      <td>1579097582195539</td>\n",
       "      <td>E2806E8F00000039005E0E4D</td>\n",
       "      <td>4</td>\n",
       "      <td>-69</td>\n",
       "      <td>865.7</td>\n",
       "      <td>192.168.0.10</td>\n",
       "    </tr>\n",
       "    <tr>\n",
       "      <th>10</th>\n",
       "      <td>1579097582487514</td>\n",
       "      <td>245390003869</td>\n",
       "      <td>4</td>\n",
       "      <td>-74</td>\n",
       "      <td>865.7</td>\n",
       "      <td>192.168.0.10</td>\n",
       "    </tr>\n",
       "  </tbody>\n",
       "</table>\n",
       "</div>"
      ],
      "text/plain": [
       "           TimesTamp                       ECP Antenna   RSSI Channel  \\\n",
       "1   1579097579071616              245390003869       3    -64   865.7   \n",
       "2   1579097579131213  E2806E8F00000039005E0E4D       4  -69.5   865.7   \n",
       "3   1579097580688872              245390003869       3  -74.5   865.7   \n",
       "4   1579097580738181  E2806E8F00000039005E0E4D       4  -69.5   865.7   \n",
       "5   1579097581259286  E2806E8F00000039005E0E4D       4  -69.5   865.7   \n",
       "6   1579097581510342              245390003869       4  -71.5   865.7   \n",
       "7   1579097581772247  E2806E8F00000039005E0E4D       4  -69.5   865.7   \n",
       "8   1579097582059455  E28068940000500640E060E8       4  -74.5   865.7   \n",
       "9   1579097582195539  E2806E8F00000039005E0E4D       4    -69   865.7   \n",
       "10  1579097582487514              245390003869       4    -74   865.7   \n",
       "\n",
       "          Adress  \n",
       "1   192.168.0.10  \n",
       "2   192.168.0.10  \n",
       "3   192.168.0.10  \n",
       "4   192.168.0.10  \n",
       "5   192.168.0.10  \n",
       "6   192.168.0.10  \n",
       "7   192.168.0.10  \n",
       "8   192.168.0.10  \n",
       "9   192.168.0.10  \n",
       "10  192.168.0.10  "
      ]
     },
     "execution_count": 2,
     "metadata": {},
     "output_type": "execute_result"
    }
   ],
   "source": [
    "n=['TimesTamp', 'ECP', 'Antenna', 'RSSI', 'Channel', 'Adress']\n",
    "p='../1-RawData/data2.csv'\n",
    "d=','\n",
    "def importData(path, delimit,cols):\n",
    "    return pd.read_csv(path, sep=delimit,names=cols)\n",
    "\n",
    "data=importData(p,d,n)\n",
    "data = data.drop([0],axis=0) #Suppression de la 1ere ligne\n",
    "\n",
    "data.head(10)"
   ]
  },
  {
   "cell_type": "markdown",
   "metadata": {},
   "source": [
    "### TYPAGE DES CHAMPS\n",
    "Nos allons typer les différentes colonnes du dataSet avec les types primaires de python "
   ]
  },
  {
   "cell_type": "code",
   "execution_count": 3,
   "metadata": {},
   "outputs": [
    {
     "name": "stdout",
     "output_type": "stream",
     "text": [
      "<class 'pandas.core.frame.DataFrame'>\n",
      "Int64Index: 119 entries, 1 to 119\n",
      "Data columns (total 6 columns):\n",
      "TimesTamp    119 non-null int64\n",
      "ECP          119 non-null object\n",
      "Antenna      119 non-null int64\n",
      "RSSI         119 non-null float64\n",
      "Channel      119 non-null object\n",
      "Adress       119 non-null object\n",
      "dtypes: float64(1), int64(2), object(3)\n",
      "memory usage: 6.5+ KB\n"
     ]
    }
   ],
   "source": [
    "def typage(data):\n",
    "    data['ECP']=data['ECP'].astype(str)\n",
    "    data['TimesTamp']=data['TimesTamp'].astype('int64')\n",
    "    data['RSSI']=data['RSSI'].astype('float64')\n",
    "    data['Antenna']=data['Antenna'].astype('int64')\n",
    "    return data\n",
    "\n",
    "data=typage(data)\n",
    "data.info()"
   ]
  },
  {
   "cell_type": "markdown",
   "metadata": {},
   "source": [
    "### False Positif\n",
    "cette section est exécuter que lors de la génération des données de d'apprentissage et de test. Connaissant les données fausses positives, nous allons définir une colonne pour toutes les données qui sera 1 pour les parasites et 1 pour les autres. "
   ]
  },
  {
   "cell_type": "code",
   "execution_count": 4,
   "metadata": {
    "collapsed": true
   },
   "outputs": [],
   "source": [
    "#La liste de nos étiquettes falsePositive\n",
    "fp_list=['245390003868','245390003869','300000000000000000017882','300000000000000000017884','300000000000000000017851',\n",
    "         '300000000000000000017856','300000000000000000017857','300000000000000000017858','300000000000000000017860',\n",
    "         '30000000000000000001785A','30000000000000000001785C','3000000000000000000178BC',\n",
    "         '30000000000000000001785D','30000000000000000001785F']\n",
    "\n",
    "def setFalsePositive(fp_list, dataSet):\n",
    "    fp={}\n",
    "    for e in dataSet.ECP:\n",
    "        fp[e]=0\n",
    "        for f in fp_list:\n",
    "            if(str(e).strip('[]')==f):\n",
    "                fp[e]=1\n",
    "    return fp"
   ]
  },
  {
   "cell_type": "markdown",
   "metadata": {},
   "source": [
    "### Génération du DataSet\n",
    "Nous allons générer l'ensemble des colonnes necessaires pour l'apprentissage et la classification"
   ]
  },
  {
   "cell_type": "code",
   "execution_count": 75,
   "metadata": {},
   "outputs": [
    {
     "data": {
      "text/html": [
       "<div>\n",
       "<style scoped>\n",
       "    .dataframe tbody tr th:only-of-type {\n",
       "        vertical-align: middle;\n",
       "    }\n",
       "\n",
       "    .dataframe tbody tr th {\n",
       "        vertical-align: top;\n",
       "    }\n",
       "\n",
       "    .dataframe thead th {\n",
       "        text-align: right;\n",
       "    }\n",
       "</style>\n",
       "<table border=\"1\" class=\"dataframe\">\n",
       "  <thead>\n",
       "    <tr style=\"text-align: right;\">\n",
       "      <th></th>\n",
       "      <th>ECP</th>\n",
       "      <th>RC</th>\n",
       "      <th>MIN</th>\n",
       "      <th>MAX</th>\n",
       "      <th>MEAN</th>\n",
       "      <th>START</th>\n",
       "      <th>END</th>\n",
       "      <th>DURATION</th>\n",
       "      <th>CV</th>\n",
       "      <th>A1</th>\n",
       "      <th>A2</th>\n",
       "      <th>A3</th>\n",
       "      <th>A4</th>\n",
       "    </tr>\n",
       "  </thead>\n",
       "  <tbody>\n",
       "    <tr>\n",
       "      <th>0</th>\n",
       "      <td>245390003869</td>\n",
       "      <td>34</td>\n",
       "      <td>-74.5</td>\n",
       "      <td>-55.0</td>\n",
       "      <td>-66.970588</td>\n",
       "      <td>1579097579071616</td>\n",
       "      <td>1579097611001788</td>\n",
       "      <td>31930172</td>\n",
       "      <td>-0.078990</td>\n",
       "      <td>7</td>\n",
       "      <td>5</td>\n",
       "      <td>15</td>\n",
       "      <td>7</td>\n",
       "    </tr>\n",
       "    <tr>\n",
       "      <th>1</th>\n",
       "      <td>E28068940000500640E060E8</td>\n",
       "      <td>5</td>\n",
       "      <td>-75.0</td>\n",
       "      <td>-72.5</td>\n",
       "      <td>-74.400000</td>\n",
       "      <td>1579097582059455</td>\n",
       "      <td>1579097608980833</td>\n",
       "      <td>26921378</td>\n",
       "      <td>-0.013031</td>\n",
       "      <td>0</td>\n",
       "      <td>0</td>\n",
       "      <td>0</td>\n",
       "      <td>5</td>\n",
       "    </tr>\n",
       "    <tr>\n",
       "      <th>2</th>\n",
       "      <td>E2806E8F00000039005E0E4D</td>\n",
       "      <td>80</td>\n",
       "      <td>-70.5</td>\n",
       "      <td>-68.5</td>\n",
       "      <td>-69.350000</td>\n",
       "      <td>1579097579131213</td>\n",
       "      <td>1579097613079601</td>\n",
       "      <td>33948388</td>\n",
       "      <td>-0.006588</td>\n",
       "      <td>0</td>\n",
       "      <td>0</td>\n",
       "      <td>0</td>\n",
       "      <td>80</td>\n",
       "    </tr>\n",
       "  </tbody>\n",
       "</table>\n",
       "</div>"
      ],
      "text/plain": [
       "                        ECP  RC   MIN   MAX       MEAN             START  \\\n",
       "0              245390003869  34 -74.5 -55.0 -66.970588  1579097579071616   \n",
       "1  E28068940000500640E060E8   5 -75.0 -72.5 -74.400000  1579097582059455   \n",
       "2  E2806E8F00000039005E0E4D  80 -70.5 -68.5 -69.350000  1579097579131213   \n",
       "\n",
       "                END  DURATION        CV  A1  A2  A3  A4  \n",
       "0  1579097611001788  31930172 -0.078990   7   5  15   7  \n",
       "1  1579097608980833  26921378 -0.013031   0   0   0   5  \n",
       "2  1579097613079601  33948388 -0.006588   0   0   0  80  "
      ]
     },
     "execution_count": 75,
     "metadata": {},
     "output_type": "execute_result"
    }
   ],
   "source": [
    "from scipy.stats import variation \n",
    "\n",
    "def generateDataSet(data, groupedBy):\n",
    "    grouped_df = data.groupby(groupedBy) #On groupe les données par ...\"Etiquetes\"\n",
    "    \n",
    "    dataSet = pd.DataFrame({}) #Création d'une nouvelle dataFrame\n",
    "    \n",
    "    #Création des variables intermédiaire pour la récupération des champs\n",
    "    ecp=pd.Series(grouped_df.ECP.unique().index,name=\"ECP\")\n",
    "    rc= pd.Series(grouped_df.ECP.count(),name=\"readcount\")\n",
    "    minRSSI= pd.Series(grouped_df.RSSI.min(),name=\"minRssi\")\n",
    "    maxRSSI= pd.Series(grouped_df.RSSI.max(),name=\"maxRssi\")\n",
    "    mean=pd.Series(grouped_df.RSSI.mean(),name=\"meanRssi\")\n",
    "    startTime=pd.Series(grouped_df.TimesTamp.min(),name=\"startTime\")\n",
    "    endTime=pd.Series(grouped_df.TimesTamp.max(),name=\"endTime\")\n",
    "    diff=pd.Series(grouped_df.RSSI.diff,name=\"difference\")\n",
    "    \n",
    "    #Mise à jour des champs de la dataFrame\n",
    "    dataSet['ECP']=ecp.values\n",
    "    dataSet['RC']=rc.values\n",
    "    dataSet['MIN']=minRSSI.values\n",
    "    dataSet['MAX']=maxRSSI.values\n",
    "    dataSet['MEAN']=mean.values\n",
    "    dataSet['START']=startTime.values\n",
    "    dataSet['END']=endTime.values\n",
    "    dataSet['DURATION']=endTime.values-startTime.values\n",
    "    cv={}\n",
    "    a1={}\n",
    "    a2={}\n",
    "    a3={}\n",
    "    a4={}\n",
    "    for key, item in grouped_df:\n",
    "        cv[key]=variation(grouped_df['RSSI'].get_group(key).values,axis=0)\n",
    "        a1[key]=0\n",
    "        a2[key]=0\n",
    "        a3[key]=0\n",
    "        a4[key]=0\n",
    "        for a in grouped_df['Antenna'].get_group(key).values:\n",
    "            if(a==1): a1[key]+=1\n",
    "            if(a==2): a2[key]+=1\n",
    "            if(a==3): a3[key]+=1\n",
    "            if(a==4): a4[key]+=1\n",
    "                \n",
    "    dataSet['CV']=pd.Series(cv).values\n",
    "    dataSet['A1']=pd.Series(a1).values\n",
    "    dataSet['A2']=pd.Series(a2).values\n",
    "    dataSet['A3']=pd.Series(a3).values\n",
    "    dataSet['A4']=pd.Series(a4).values\n",
    "    \n",
    "    #A commenter lors du \n",
    "    #fp=setFalsePositive(fp_list, dataSet)  \n",
    "    #dataSet['FP']=pd.Series(fp).values  \n",
    "    return dataSet\n",
    "\n",
    "dataSet=generateDataSet(data,'ECP')\n",
    "dataSet.head(10)"
   ]
  },
  {
   "cell_type": "markdown",
   "metadata": {},
   "source": [
    "### Export Data\n",
    "Nous allons sauvegarder les donées dans un fichier .csv"
   ]
  },
  {
   "cell_type": "code",
   "execution_count": 76,
   "metadata": {
    "collapsed": true
   },
   "outputs": [],
   "source": [
    "import time\n",
    "def exportData(data, path):\n",
    "    data.to_csv(path, index = None, header=False)\n",
    "    "
   ]
  },
  {
   "cell_type": "code",
   "execution_count": 77,
   "metadata": {
    "collapsed": true
   },
   "outputs": [],
   "source": [
    "tm = time.strftime(\"%Y-%b-%d-%H_%M_%S\")\n",
    "path='../2-TransformedData/data2_'+tm+'.csv'\n",
    "exportData(dataSet, path)"
   ]
  },
  {
   "cell_type": "markdown",
   "metadata": {},
   "source": [
    "### Split Data\n",
    "Nous allons découper les données en deux, 80% des trainSets et 20% des tesSets"
   ]
  },
  {
   "cell_type": "code",
   "execution_count": 64,
   "metadata": {
    "collapsed": true
   },
   "outputs": [],
   "source": [
    "def splitDataLE20(data):\n",
    "    dataSet_np = np.random.rand(len(data)) <0.8\n",
    "    trainSet=data[dataSet_np]\n",
    "    testSet=data[~dataSet_np]\n",
    "    return trainSet, testSet\n",
    "\n",
    "from sklearn.model_selection import train_test_split\n",
    "def sliptDataE20(data):\n",
    "    X = data.iloc[:, :-1].values\n",
    "    y = data['FP'].values\n",
    "    X_train, X_test, y_train, y_test = train_test_split(X, y, test_size=0.20)\n",
    "    trainSet=pd.DataFrame(X_train)\n",
    "    trainSet[13]=y_train\n",
    "    \n",
    "    testSet = pd.DataFrame(X_test)\n",
    "    testSet[13] = y_test\n",
    "    return trainSet, testSet"
   ]
  },
  {
   "cell_type": "code",
   "execution_count": 66,
   "metadata": {
    "collapsed": true
   },
   "outputs": [],
   "source": [
    "tm = time.strftime(\"%Y-%b-%d-%H_%M_%S\")\n",
    "trainSet, testSet = sliptDataE20(dataSet)\n",
    "#trainSet, testSet = splitDataLE20(dataSet)\n",
    "\n",
    "pathTrain='../3-DataSet/trainSet_'+tm+'.csv'\n",
    "exportData(dataSet, pathTrain)\n",
    "\n",
    "pathTest='../3-DataSet/testSet_'+tm+'.csv'\n",
    "exportData(dataSet, pathTest)"
   ]
  }
 ],
 "metadata": {
  "kernelspec": {
   "display_name": "Python 3",
   "language": "python",
   "name": "python3"
  },
  "language_info": {
   "codemirror_mode": {
    "name": "ipython",
    "version": 3
   },
   "file_extension": ".py",
   "mimetype": "text/x-python",
   "name": "python",
   "nbconvert_exporter": "python",
   "pygments_lexer": "ipython3",
   "version": "3.6.3"
  }
 },
 "nbformat": 4,
 "nbformat_minor": 2
}
