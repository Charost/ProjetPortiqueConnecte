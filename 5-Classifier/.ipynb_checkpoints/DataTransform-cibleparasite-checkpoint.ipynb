{
 "cells": [
  {
   "cell_type": "markdown",
   "metadata": {},
   "source": [
    "### Import library\n",
    "Nous allons importer les bibliothèque numpy et pandas qui sont necessaire pour le traitement."
   ]
  },
  {
   "cell_type": "code",
   "execution_count": 6,
   "metadata": {},
   "outputs": [],
   "source": [
    "import pandas as pd\n",
    "import numpy as np"
   ]
  },
  {
   "cell_type": "markdown",
   "metadata": {},
   "source": [
    "### Import Data\n",
    "Nous allons importer les données depuis le répertoire RAwData pour enfin les traiter et transformer"
   ]
  },
  {
   "cell_type": "code",
   "execution_count": 8,
   "metadata": {},
   "outputs": [
    {
     "data": {
      "text/html": [
       "<div>\n",
       "<style scoped>\n",
       "    .dataframe tbody tr th:only-of-type {\n",
       "        vertical-align: middle;\n",
       "    }\n",
       "\n",
       "    .dataframe tbody tr th {\n",
       "        vertical-align: top;\n",
       "    }\n",
       "\n",
       "    .dataframe thead th {\n",
       "        text-align: right;\n",
       "    }\n",
       "</style>\n",
       "<table border=\"1\" class=\"dataframe\">\n",
       "  <thead>\n",
       "    <tr style=\"text-align: right;\">\n",
       "      <th></th>\n",
       "      <th>TimesTamp</th>\n",
       "      <th>ECP</th>\n",
       "      <th>Antenna</th>\n",
       "      <th>RSSI</th>\n",
       "    </tr>\n",
       "  </thead>\n",
       "  <tbody>\n",
       "    <tr>\n",
       "      <td>3</td>\n",
       "      <td>1581427753033891</td>\n",
       "      <td>E28068900000000018345317</td>\n",
       "      <td>1</td>\n",
       "      <td>-60.5</td>\n",
       "    </tr>\n",
       "    <tr>\n",
       "      <td>4</td>\n",
       "      <td>1581427753054162</td>\n",
       "      <td>E28068900000000018345317</td>\n",
       "      <td>1</td>\n",
       "      <td>-60</td>\n",
       "    </tr>\n",
       "    <tr>\n",
       "      <td>5</td>\n",
       "      <td>1581427753269703</td>\n",
       "      <td>E28068900000000018345317</td>\n",
       "      <td>1</td>\n",
       "      <td>-60</td>\n",
       "    </tr>\n",
       "    <tr>\n",
       "      <td>6</td>\n",
       "      <td>1581427753298921</td>\n",
       "      <td>E28068900000000018345317</td>\n",
       "      <td>1</td>\n",
       "      <td>-59.5</td>\n",
       "    </tr>\n",
       "    <tr>\n",
       "      <td>7</td>\n",
       "      <td>1581427753513094</td>\n",
       "      <td>E28068900000000018345317</td>\n",
       "      <td>1</td>\n",
       "      <td>-59.5</td>\n",
       "    </tr>\n",
       "  </tbody>\n",
       "</table>\n",
       "</div>"
      ],
      "text/plain": [
       "          TimesTamp                       ECP Antenna   RSSI\n",
       "3  1581427753033891  E28068900000000018345317       1  -60.5\n",
       "4  1581427753054162  E28068900000000018345317       1    -60\n",
       "5  1581427753269703  E28068900000000018345317       1    -60\n",
       "6  1581427753298921  E28068900000000018345317       1  -59.5\n",
       "7  1581427753513094  E28068900000000018345317       1  -59.5"
      ]
     },
     "execution_count": 8,
     "metadata": {},
     "output_type": "execute_result"
    }
   ],
   "source": [
    "n=['TimesTamp', 'ECP', 'Antenna', 'RSSI','Channel','Address']\n",
    "p='../1-RawData/datasetfinale/cible_parasites/25/droitebas-cible-avec-parasites-p25__02-11-2020_16h_55m_14s.csv'\n",
    "d=','\n",
    "def importData(path, delimit,cols):\n",
    "    return pd.read_csv(path, sep=delimit,names=cols)\n",
    "\n",
    "data=importData(p,d,n)\n",
    "data = data.drop([0],axis=0) #Suppression de la 1ere ligne\n",
    "data = data.drop([1],axis=0) #Suppression de la 1ere ligne\n",
    "data = data.drop([2],axis=0) #Suppression de la 1ere \n",
    "data = data.drop(['Channel'],axis=1) #Suppression de la 1ere \n",
    "data = data.drop(['Address'],axis=1) #Suppression de la 1ere \n",
    "data.head(5)"
   ]
  },
  {
   "cell_type": "markdown",
   "metadata": {},
   "source": [
    "### TYPAGE DES CHAMPS\n",
    "Nos allons typer les différentes colonnes du dataSet avec les types primaires de python "
   ]
  },
  {
   "cell_type": "code",
   "execution_count": 9,
   "metadata": {},
   "outputs": [
    {
     "name": "stdout",
     "output_type": "stream",
     "text": [
      "<class 'pandas.core.frame.DataFrame'>\n",
      "Int64Index: 414 entries, 3 to 416\n",
      "Data columns (total 4 columns):\n",
      "TimesTamp    414 non-null int64\n",
      "ECP          414 non-null object\n",
      "Antenna      414 non-null int64\n",
      "RSSI         414 non-null float64\n",
      "dtypes: float64(1), int64(2), object(1)\n",
      "memory usage: 16.2+ KB\n"
     ]
    },
    {
     "data": {
      "text/plain": [
       "(414, 4)"
      ]
     },
     "execution_count": 9,
     "metadata": {},
     "output_type": "execute_result"
    }
   ],
   "source": [
    "def typage(data):\n",
    "    data['ECP']=data['ECP'].astype(str)\n",
    "    data['TimesTamp']=data['TimesTamp'].astype('int64')\n",
    "    data['RSSI']=data['RSSI'].astype('float64')\n",
    "    data['Antenna']=data['Antenna'].astype('int64')\n",
    "    return data\n",
    "\n",
    "data=typage(data)\n",
    "data.info()\n",
    "data.shape"
   ]
  },
  {
   "cell_type": "code",
   "execution_count": 11,
   "metadata": {},
   "outputs": [
    {
     "name": "stdout",
     "output_type": "stream",
     "text": [
      "firstSize 1568\n",
      "secondSize 1436\n",
      "firstSize 1436\n",
      "secondSize 1436\n",
      "firstSize 1436\n",
      "secondSize 1324\n",
      "firstSize 1324\n",
      "secondSize 1324\n"
     ]
    }
   ],
   "source": [
    "'''\n",
    "3005FB63AC1F3681EC880468, 1532AC20AC1F3681EC880468, 0000FB63AC1F3681EC880468, 1007FB63AC1F3681EC880468\n",
    "'''\n",
    "def deleteRowByECP(datas, ecp):\n",
    "    print('firstSize', datas.size)\n",
    "    datas=datas[datas.ECP!=ecp]\n",
    "    print('secondSize', datas.size)\n",
    "    return datas\n",
    "\n",
    "data = deleteRowByECP(data,'3005FB63AC1F3681EC880468')\n",
    "data = deleteRowByECP(data,'1532AC20AC1F3681EC880468')\n",
    "data = deleteRowByECP(data,'0000FB63AC1F3681EC880468')\n",
    "data = deleteRowByECP(data,'1007FB63AC1F3681EC880468')"
   ]
  },
  {
   "cell_type": "code",
   "execution_count": null,
   "metadata": {},
   "outputs": [],
   "source": [
    "'''\n",
    "E28068900000000018343760, 3005FB63AC1F3681EC8812DB, E28068900000000018344AC515, 3005FB63AC1F3681EC88144815, \n",
    "3005FB63AC1F3681EC8812DB, \n",
    "'''"
   ]
  },
  {
   "cell_type": "code",
   "execution_count": 12,
   "metadata": {},
   "outputs": [
    {
     "data": {
      "text/html": [
       "<div>\n",
       "<style scoped>\n",
       "    .dataframe tbody tr th:only-of-type {\n",
       "        vertical-align: middle;\n",
       "    }\n",
       "\n",
       "    .dataframe tbody tr th {\n",
       "        vertical-align: top;\n",
       "    }\n",
       "\n",
       "    .dataframe thead th {\n",
       "        text-align: right;\n",
       "    }\n",
       "</style>\n",
       "<table border=\"1\" class=\"dataframe\">\n",
       "  <thead>\n",
       "    <tr style=\"text-align: right;\">\n",
       "      <th></th>\n",
       "      <th>TimesTamp</th>\n",
       "      <th>ECP</th>\n",
       "      <th>Antenna</th>\n",
       "      <th>RSSI</th>\n",
       "    </tr>\n",
       "  </thead>\n",
       "  <tbody>\n",
       "    <tr>\n",
       "      <td>3</td>\n",
       "      <td>1581427753033891</td>\n",
       "      <td>E280689000000000183453171</td>\n",
       "      <td>1</td>\n",
       "      <td>-60.5</td>\n",
       "    </tr>\n",
       "    <tr>\n",
       "      <td>4</td>\n",
       "      <td>1581427753054162</td>\n",
       "      <td>E280689000000000183453171</td>\n",
       "      <td>1</td>\n",
       "      <td>-60.0</td>\n",
       "    </tr>\n",
       "    <tr>\n",
       "      <td>5</td>\n",
       "      <td>1581427753269703</td>\n",
       "      <td>E280689000000000183453171</td>\n",
       "      <td>1</td>\n",
       "      <td>-60.0</td>\n",
       "    </tr>\n",
       "    <tr>\n",
       "      <td>6</td>\n",
       "      <td>1581427753298921</td>\n",
       "      <td>E280689000000000183453171</td>\n",
       "      <td>1</td>\n",
       "      <td>-59.5</td>\n",
       "    </tr>\n",
       "    <tr>\n",
       "      <td>7</td>\n",
       "      <td>1581427753513094</td>\n",
       "      <td>E280689000000000183453171</td>\n",
       "      <td>1</td>\n",
       "      <td>-59.5</td>\n",
       "    </tr>\n",
       "    <tr>\n",
       "      <td>8</td>\n",
       "      <td>1581427753544895</td>\n",
       "      <td>E280689000000000183453171</td>\n",
       "      <td>1</td>\n",
       "      <td>-59.5</td>\n",
       "    </tr>\n",
       "    <tr>\n",
       "      <td>9</td>\n",
       "      <td>1581427753748230</td>\n",
       "      <td>E280689000000000183453171</td>\n",
       "      <td>1</td>\n",
       "      <td>-59.5</td>\n",
       "    </tr>\n",
       "    <tr>\n",
       "      <td>10</td>\n",
       "      <td>1581427753775459</td>\n",
       "      <td>E280689000000000183453171</td>\n",
       "      <td>1</td>\n",
       "      <td>-59.5</td>\n",
       "    </tr>\n",
       "    <tr>\n",
       "      <td>11</td>\n",
       "      <td>1581427753983658</td>\n",
       "      <td>E280689000000000183453171</td>\n",
       "      <td>1</td>\n",
       "      <td>-59.5</td>\n",
       "    </tr>\n",
       "    <tr>\n",
       "      <td>12</td>\n",
       "      <td>1581427754008097</td>\n",
       "      <td>E280689000000000183453171</td>\n",
       "      <td>1</td>\n",
       "      <td>-59.0</td>\n",
       "    </tr>\n",
       "  </tbody>\n",
       "</table>\n",
       "</div>"
      ],
      "text/plain": [
       "           TimesTamp                        ECP  Antenna  RSSI\n",
       "3   1581427753033891  E280689000000000183453171        1 -60.5\n",
       "4   1581427753054162  E280689000000000183453171        1 -60.0\n",
       "5   1581427753269703  E280689000000000183453171        1 -60.0\n",
       "6   1581427753298921  E280689000000000183453171        1 -59.5\n",
       "7   1581427753513094  E280689000000000183453171        1 -59.5\n",
       "8   1581427753544895  E280689000000000183453171        1 -59.5\n",
       "9   1581427753748230  E280689000000000183453171        1 -59.5\n",
       "10  1581427753775459  E280689000000000183453171        1 -59.5\n",
       "11  1581427753983658  E280689000000000183453171        1 -59.5\n",
       "12  1581427754008097  E280689000000000183453171        1 -59.0"
      ]
     },
     "execution_count": 12,
     "metadata": {},
     "output_type": "execute_result"
    }
   ],
   "source": [
    "data.ECP = data.ECP.values+\"1\"\n",
    "data.head(10)"
   ]
  },
  {
   "cell_type": "code",
   "execution_count": 13,
   "metadata": {},
   "outputs": [
    {
     "data": {
      "text/html": [
       "<div>\n",
       "<style scoped>\n",
       "    .dataframe tbody tr th:only-of-type {\n",
       "        vertical-align: middle;\n",
       "    }\n",
       "\n",
       "    .dataframe tbody tr th {\n",
       "        vertical-align: top;\n",
       "    }\n",
       "\n",
       "    .dataframe thead th {\n",
       "        text-align: right;\n",
       "    }\n",
       "</style>\n",
       "<table border=\"1\" class=\"dataframe\">\n",
       "  <thead>\n",
       "    <tr style=\"text-align: right;\">\n",
       "      <th></th>\n",
       "      <th>TimesTamp</th>\n",
       "      <th>ECP</th>\n",
       "      <th>Antenna</th>\n",
       "      <th>RSSI</th>\n",
       "      <th>FP</th>\n",
       "    </tr>\n",
       "  </thead>\n",
       "  <tbody>\n",
       "    <tr>\n",
       "      <td>3</td>\n",
       "      <td>1581427753033891</td>\n",
       "      <td>E280689000000000183453171</td>\n",
       "      <td>1</td>\n",
       "      <td>-60.5</td>\n",
       "      <td>1</td>\n",
       "    </tr>\n",
       "    <tr>\n",
       "      <td>4</td>\n",
       "      <td>1581427753054162</td>\n",
       "      <td>E280689000000000183453171</td>\n",
       "      <td>1</td>\n",
       "      <td>-60.0</td>\n",
       "      <td>1</td>\n",
       "    </tr>\n",
       "    <tr>\n",
       "      <td>5</td>\n",
       "      <td>1581427753269703</td>\n",
       "      <td>E280689000000000183453171</td>\n",
       "      <td>1</td>\n",
       "      <td>-60.0</td>\n",
       "      <td>1</td>\n",
       "    </tr>\n",
       "    <tr>\n",
       "      <td>6</td>\n",
       "      <td>1581427753298921</td>\n",
       "      <td>E280689000000000183453171</td>\n",
       "      <td>1</td>\n",
       "      <td>-59.5</td>\n",
       "      <td>1</td>\n",
       "    </tr>\n",
       "    <tr>\n",
       "      <td>7</td>\n",
       "      <td>1581427753513094</td>\n",
       "      <td>E280689000000000183453171</td>\n",
       "      <td>1</td>\n",
       "      <td>-59.5</td>\n",
       "      <td>1</td>\n",
       "    </tr>\n",
       "    <tr>\n",
       "      <td>...</td>\n",
       "      <td>...</td>\n",
       "      <td>...</td>\n",
       "      <td>...</td>\n",
       "      <td>...</td>\n",
       "      <td>...</td>\n",
       "    </tr>\n",
       "    <tr>\n",
       "      <td>412</td>\n",
       "      <td>1581427761310630</td>\n",
       "      <td>E280689000000000183453171</td>\n",
       "      <td>1</td>\n",
       "      <td>-60.0</td>\n",
       "      <td>1</td>\n",
       "    </tr>\n",
       "    <tr>\n",
       "      <td>413</td>\n",
       "      <td>1581427761330548</td>\n",
       "      <td>E280689000000000183453171</td>\n",
       "      <td>1</td>\n",
       "      <td>-60.0</td>\n",
       "      <td>1</td>\n",
       "    </tr>\n",
       "    <tr>\n",
       "      <td>414</td>\n",
       "      <td>1581427761549637</td>\n",
       "      <td>E280689000000000183453171</td>\n",
       "      <td>1</td>\n",
       "      <td>-59.5</td>\n",
       "      <td>1</td>\n",
       "    </tr>\n",
       "    <tr>\n",
       "      <td>415</td>\n",
       "      <td>1581427761577371</td>\n",
       "      <td>E280689000000000183453171</td>\n",
       "      <td>1</td>\n",
       "      <td>-60.0</td>\n",
       "      <td>1</td>\n",
       "    </tr>\n",
       "    <tr>\n",
       "      <td>416</td>\n",
       "      <td>1581427761791794</td>\n",
       "      <td>E280689000000000183453171</td>\n",
       "      <td>1</td>\n",
       "      <td>-60.0</td>\n",
       "      <td>1</td>\n",
       "    </tr>\n",
       "  </tbody>\n",
       "</table>\n",
       "<p>331 rows × 5 columns</p>\n",
       "</div>"
      ],
      "text/plain": [
       "            TimesTamp                        ECP  Antenna  RSSI  FP\n",
       "3    1581427753033891  E280689000000000183453171        1 -60.5   1\n",
       "4    1581427753054162  E280689000000000183453171        1 -60.0   1\n",
       "5    1581427753269703  E280689000000000183453171        1 -60.0   1\n",
       "6    1581427753298921  E280689000000000183453171        1 -59.5   1\n",
       "7    1581427753513094  E280689000000000183453171        1 -59.5   1\n",
       "..                ...                        ...      ...   ...  ..\n",
       "412  1581427761310630  E280689000000000183453171        1 -60.0   1\n",
       "413  1581427761330548  E280689000000000183453171        1 -60.0   1\n",
       "414  1581427761549637  E280689000000000183453171        1 -59.5   1\n",
       "415  1581427761577371  E280689000000000183453171        1 -60.0   1\n",
       "416  1581427761791794  E280689000000000183453171        1 -60.0   1\n",
       "\n",
       "[331 rows x 5 columns]"
      ]
     },
     "execution_count": 13,
     "metadata": {},
     "output_type": "execute_result"
    }
   ],
   "source": [
    "data['FP']=1\n",
    "data"
   ]
  },
  {
   "cell_type": "markdown",
   "metadata": {},
   "source": [
    "### Export Data\n",
    "Nous allons sauvegarder les donées dans un fichier .csv"
   ]
  },
  {
   "cell_type": "code",
   "execution_count": 94,
   "metadata": {
    "collapsed": true
   },
   "outputs": [],
   "source": [
    "import time\n",
    "def exportData(data, path):\n",
    "    data.to_csv(path, index = None, header=False)\n",
    "    "
   ]
  },
  {
   "cell_type": "code",
   "execution_count": 95,
   "metadata": {},
   "outputs": [],
   "source": [
    "path='../2-TransformedData/DerriereGaucheBas-p30__02-11-2020_15h_05m_20s.csv'\n",
    "exportData(data, path)"
   ]
  }
 ],
 "metadata": {
  "kernelspec": {
   "display_name": "Python 3",
   "language": "python",
   "name": "python3"
  },
  "language_info": {
   "codemirror_mode": {
    "name": "ipython",
    "version": 3
   },
   "file_extension": ".py",
   "mimetype": "text/x-python",
   "name": "python",
   "nbconvert_exporter": "python",
   "pygments_lexer": "ipython3",
   "version": "3.7.4"
  }
 },
 "nbformat": 4,
 "nbformat_minor": 2
}
